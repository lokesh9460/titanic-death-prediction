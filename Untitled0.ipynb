{
  "nbformat": 4,
  "nbformat_minor": 0,
  "metadata": {
    "colab": {
      "name": "Untitled0.ipynb",
      "provenance": [],
      "authorship_tag": "ABX9TyOpZ65N1MiM7ZIZo2OjBToz",
      "include_colab_link": true
    },
    "kernelspec": {
      "name": "python3",
      "display_name": "Python 3"
    }
  },
  "cells": [
    {
      "cell_type": "markdown",
      "metadata": {
        "id": "view-in-github",
        "colab_type": "text"
      },
      "source": [
        "<a href=\"https://colab.research.google.com/github/lokesh9460/titanic-death-prediction/blob/master/Untitled0.ipynb\" target=\"_parent\"><img src=\"https://colab.research.google.com/assets/colab-badge.svg\" alt=\"Open In Colab\"/></a>"
      ]
    },
    {
      "cell_type": "code",
      "metadata": {
        "id": "Xikety0lJ3tE",
        "colab_type": "code",
        "colab": {}
      },
      "source": [
        "import numpy as np\n",
        "import pandas as pd\n",
        "import os\n",
        "\n"
      ],
      "execution_count": 0,
      "outputs": []
    },
    {
      "cell_type": "code",
      "metadata": {
        "id": "pvl2PtfBKVMf",
        "colab_type": "code",
        "outputId": "8c159452-32e7-4041-d70c-3625c96eab23",
        "colab": {
          "base_uri": "https://localhost:8080/",
          "height": 124
        }
      },
      "source": [
        "from google.colab import drive\n",
        "drive.mount('/content/drive')"
      ],
      "execution_count": 0,
      "outputs": [
        {
          "output_type": "stream",
          "text": [
            "Go to this URL in a browser: https://accounts.google.com/o/oauth2/auth?client_id=947318989803-6bn6qk8qdgf4n4g3pfee6491hc0brc4i.apps.googleusercontent.com&redirect_uri=urn%3aietf%3awg%3aoauth%3a2.0%3aoob&response_type=code&scope=email%20https%3a%2f%2fwww.googleapis.com%2fauth%2fdocs.test%20https%3a%2f%2fwww.googleapis.com%2fauth%2fdrive%20https%3a%2f%2fwww.googleapis.com%2fauth%2fdrive.photos.readonly%20https%3a%2f%2fwww.googleapis.com%2fauth%2fpeopleapi.readonly\n",
            "\n",
            "Enter your authorization code:\n",
            "··········\n",
            "Mounted at /content/drive\n"
          ],
          "name": "stdout"
        }
      ]
    },
    {
      "cell_type": "code",
      "metadata": {
        "id": "NBrwrUlIKW1t",
        "colab_type": "code",
        "colab": {}
      },
      "source": [
        "path = '/content/drive/My Drive/titanic/'"
      ],
      "execution_count": 0,
      "outputs": []
    },
    {
      "cell_type": "code",
      "metadata": {
        "id": "jE1pbWpCK76N",
        "colab_type": "code",
        "outputId": "63914e0b-1aa5-43b9-b18b-d38ee779da62",
        "colab": {
          "base_uri": "https://localhost:8080/",
          "height": 34
        }
      },
      "source": [
        "print(os.listdir(path))"
      ],
      "execution_count": 0,
      "outputs": [
        {
          "output_type": "stream",
          "text": [
            "['gender_submission.csv', 'train.csv', 'test.csv', 'Untitled0.ipynb']\n"
          ],
          "name": "stdout"
        }
      ]
    },
    {
      "cell_type": "code",
      "metadata": {
        "id": "e5KEIhqfLFQ3",
        "colab_type": "code",
        "colab": {}
      },
      "source": [
        "train=pd.read_csv(path+'train.csv')\n",
        "test=pd.read_csv(path+'test.csv')\n",
        "test['Survived']=np.nan"
      ],
      "execution_count": 0,
      "outputs": []
    },
    {
      "cell_type": "code",
      "metadata": {
        "id": "3OXIaEcoLrSE",
        "colab_type": "code",
        "colab": {}
      },
      "source": [
        "data=train.append(test,ignore_index=True,sort=False)\n",
        "##Add missing fare to passengerID 1044 and create new Fare_bin feature\n",
        "data['Fare'].fillna(8,inplace=True)"
      ],
      "execution_count": 0,
      "outputs": []
    },
    {
      "cell_type": "code",
      "metadata": {
        "id": "wrFlJkf8MMtz",
        "colab_type": "code",
        "colab": {}
      },
      "source": [
        "data['Ticket_count']=data.Ticket.apply(lambda x:data[data['Ticket']==x].shape[0])\n",
        "data['Fare_ticket']=data.apply(lambda x:x.Fare/x.Ticket_count,axis=1)\n",
        "data['Fare_bin']=pd.qcut(data['Fare_ticket'],4,labels=('Fare_bin1','Fare_bin2','Fare_bin3','Fare_bin4'))"
      ],
      "execution_count": 0,
      "outputs": []
    },
    {
      "cell_type": "code",
      "metadata": {
        "id": "fj3zW221OXSR",
        "colab_type": "code",
        "colab": {}
      },
      "source": [
        "## new title feature created\n",
        "data['Title']=data['Name'].str.split(', ').str[1].str.split('.').str[0]\n",
        "data['Title']=data['Title'].replace(['Ms','Mlle'],'Miss')\n",
        "data['Title']=data['Title'].replace(['Mme'],'Mrs')\n",
        "data['Title']=data['Title'].replace(['Dona','Dr','Rev','the Countess','Capt','Lady','Sir','Jonkheer','Don','Major','Col'],'Rare')"
      ],
      "execution_count": 0,
      "outputs": []
    },
    {
      "cell_type": "code",
      "metadata": {
        "id": "dAZqqPmwNrQo",
        "colab_type": "code",
        "colab": {}
      },
      "source": [
        "##Add missing Age bases on Pclass and create new Age_bin feature\n",
        "def Cal_age(cols):\n",
        "  Age=cols[0]\n",
        "  Pclass=cols[1]\n",
        "\n",
        "  if pd.isnull(Age):\n",
        "    if Pclass==1:\n",
        "      return 37\n",
        "    elif Pclass==2:\n",
        "      return 29\n",
        "    else:\n",
        "      return 24\n",
        "  else:\n",
        "    return Age\n",
        "\n",
        "data['Age']=data[['Age','Title']].apply(Cal_age,axis=1)\n",
        "data['Age_bin']=pd.cut(data['Age'].astype(int),5,labels=('Age_bin1','Age_bin2','Age_bin3','Age_bin4','Age_bin5'))\n"
      ],
      "execution_count": 0,
      "outputs": []
    },
    {
      "cell_type": "code",
      "metadata": {
        "id": "GcL_CnzKTfu9",
        "colab_type": "code",
        "colab": {}
      },
      "source": [
        "## New Family size feature\n",
        "def Cal_Family_bin(cols):\n",
        "  FamilySize=cols[0]+cols[1]\n",
        "  if FamilySize==0:\n",
        "    return 'Alone'\n",
        "  elif 1 <= FamilySize <=3:\n",
        "    return 'Family'\n",
        "  elif FamilySize>=4:\n",
        "    return 'Big_family'\n",
        "\n",
        "data['Family_type']=data[['SibSp','Parch']].apply(Cal_Family_bin,axis=1)\n",
        "\n",
        "#Missing emabarked info\n",
        "data.loc[data['Embarked'].isnull(),'Embarked']='S'"
      ],
      "execution_count": 0,
      "outputs": []
    },
    {
      "cell_type": "code",
      "metadata": {
        "id": "_C_LHEE0VP7y",
        "colab_type": "code",
        "colab": {}
      },
      "source": [
        "data['Family_name']=data['Name'].str.split(', ').str[0]+'-'+data['Fare'].astype(str)\n",
        "\n",
        "#Families with a female or child no survive\n",
        "list1=data[((data['Sex']=='female')|(data['Age']<14)) & (data['Survived']==0)]['Family_name'].tolist()\n",
        "\n",
        "#Families with male no child survive\n",
        "list2=data[(data['Sex']=='male') & (data['Age']>18) & (data['Survived']==1)]['Family_name'].tolist()"
      ],
      "execution_count": 0,
      "outputs": []
    },
    {
      "cell_type": "code",
      "metadata": {
        "id": "BWTl2u0EaqQC",
        "colab_type": "code",
        "colab": {}
      },
      "source": [
        "def FC_dead(row):\n",
        "  if row['Family_name'] in list1:\n",
        "    return 1\n",
        "  else:\n",
        "    return 0\n",
        "\n",
        "def M_Alive(row):\n",
        "  if row['Family_name'] in list2:\n",
        "    return 1\n",
        "  else:\n",
        "    return 0\n",
        "\n",
        "data['Family_wit_FC_dead']=data.apply(FC_dead,axis=1)\n",
        "data['Family_wit_M_alive']=data.apply(M_Alive,axis=1)\n",
        "\n",
        "data['Family_Name_size']=data.Family_name.apply(lambda x: data[data['Family_name']==x].shape[0])"
      ],
      "execution_count": 0,
      "outputs": []
    },
    {
      "cell_type": "code",
      "metadata": {
        "id": "JFlGpJVMb9hF",
        "colab_type": "code",
        "colab": {}
      },
      "source": [
        "Fare_bin=pd.get_dummies(data['Fare_bin'])\n",
        "Pclass_bin=pd.get_dummies(data['Pclass'],prefix='Class')\n",
        "Title_bin=pd.get_dummies(data['Title'])\n",
        "Sex_bin=pd.get_dummies(data['Sex'],drop_first=True,prefix='Sex')\n",
        "Age_bin=pd.get_dummies(data['Age_bin'])\n",
        "Family_type=pd.get_dummies(data['Family_type'])\n",
        "Embarked_bin=pd.get_dummies(data['Embarked'],prefix='Embarked')\n",
        "Family_wit_FC_dead=data['Family_wit_FC_dead'].astype(np.uint8)\n",
        "Family_with_M_alive=data['Family_wit_M_alive'].astype(np.uint8)"
      ],
      "execution_count": 0,
      "outputs": []
    },
    {
      "cell_type": "code",
      "metadata": {
        "id": "U7uyZ3d1eocy",
        "colab_type": "code",
        "outputId": "ac14eefb-db86-48cf-8072-e9e5756c622d",
        "colab": {
          "base_uri": "https://localhost:8080/",
          "height": 104
        }
      },
      "source": [
        "data_cleaned=pd.concat([data['Survived'],Fare_bin,Pclass_bin,Title_bin,Sex_bin,Age_bin,Family_type,Embarked_bin,Family_wit_FC_dead,Family_with_M_alive],axis=1)\n",
        "\n",
        "train_cleaned=data_cleaned[data['Survived'].notnull()]\n",
        "test_cleaned=data_cleaned[data['Survived'].isnull()]\n",
        "\n",
        "test_cleaned.drop('Survived',axis=1,inplace=True)\n",
        "PassId=test['PassengerId']"
      ],
      "execution_count": 0,
      "outputs": [
        {
          "output_type": "stream",
          "text": [
            "/usr/local/lib/python3.6/dist-packages/pandas/core/frame.py:3997: SettingWithCopyWarning: \n",
            "A value is trying to be set on a copy of a slice from a DataFrame\n",
            "\n",
            "See the caveats in the documentation: https://pandas.pydata.org/pandas-docs/stable/user_guide/indexing.html#returning-a-view-versus-a-copy\n",
            "  errors=errors,\n"
          ],
          "name": "stderr"
        }
      ]
    },
    {
      "cell_type": "code",
      "metadata": {
        "id": "QGt48wYtgG6c",
        "colab_type": "code",
        "colab": {}
      },
      "source": [
        "from sklearn.model_selection import train_test_split\n",
        "from sklearn.ensemble import RandomForestClassifier\n",
        "from sklearn.metrics import classification_report,accuracy_score,confusion_matrix,mean_absolute_error\n",
        "\n",
        "x=train_cleaned.drop('Survived',axis=1)\n",
        "y=train_cleaned['Survived']"
      ],
      "execution_count": 0,
      "outputs": []
    },
    {
      "cell_type": "code",
      "metadata": {
        "id": "JIRPwXPWhQkL",
        "colab_type": "code",
        "outputId": "12846368-ec2e-4cb8-b620-24798c8451e8",
        "colab": {
          "base_uri": "https://localhost:8080/",
          "height": 34
        }
      },
      "source": [
        "x_train,x_test,y_train,y_test=train_test_split(x,y,test_size=0.1)\n",
        "\n",
        "rfc=RandomForestClassifier(n_estimators=100)\n",
        "rfc.fit(x_train,y_train)\n",
        "rfc.score(x_test,y_test)"
      ],
      "execution_count": 0,
      "outputs": [
        {
          "output_type": "execute_result",
          "data": {
            "text/plain": [
              "1.0"
            ]
          },
          "metadata": {
            "tags": []
          },
          "execution_count": 29
        }
      ]
    },
    {
      "cell_type": "code",
      "metadata": {
        "id": "DHpgYYAsh1UJ",
        "colab_type": "code",
        "outputId": "b6d1285a-cad2-4396-ab91-e1fb526466ba",
        "colab": {
          "base_uri": "https://localhost:8080/",
          "height": 34
        }
      },
      "source": [
        "from xgboost import XGBClassifier\n",
        "classifier=XGBClassifier(colsample_bylevel=0.9999999,colsample_bytree=0.9999999,gamma=0.99999,max_depth=5,min_child_weight=1,n_estimators=1000,nthread=4,random_state=2,silent=True)\n",
        "classifier.fit(x,y)\n",
        "classifier.score(x_test,y_test)"
      ],
      "execution_count": 0,
      "outputs": [
        {
          "output_type": "execute_result",
          "data": {
            "text/plain": [
              "1.0"
            ]
          },
          "metadata": {
            "tags": []
          },
          "execution_count": 31
        }
      ]
    },
    {
      "cell_type": "code",
      "metadata": {
        "id": "41GKerTcmVQB",
        "colab_type": "code",
        "colab": {}
      },
      "source": [
        "xgb_predict=classifier.predict(test_cleaned).astype(np.uint8)"
      ],
      "execution_count": 0,
      "outputs": []
    },
    {
      "cell_type": "code",
      "metadata": {
        "id": "o8ap9yiUnEmd",
        "colab_type": "code",
        "outputId": "fc1bdc92-2410-4d57-bc41-87fc580622c9",
        "colab": {
          "base_uri": "https://localhost:8080/",
          "height": 206
        }
      },
      "source": [
        "output_xgb=pd.DataFrame({'PassengerId':PassId,'Survived':xgb_predict})\n",
        "output_xgb.to_csv('result-xgb.csv',index=False)\n",
        "output_xgb.head()"
      ],
      "execution_count": 0,
      "outputs": [
        {
          "output_type": "execute_result",
          "data": {
            "text/html": [
              "<div>\n",
              "<style scoped>\n",
              "    .dataframe tbody tr th:only-of-type {\n",
              "        vertical-align: middle;\n",
              "    }\n",
              "\n",
              "    .dataframe tbody tr th {\n",
              "        vertical-align: top;\n",
              "    }\n",
              "\n",
              "    .dataframe thead th {\n",
              "        text-align: right;\n",
              "    }\n",
              "</style>\n",
              "<table border=\"1\" class=\"dataframe\">\n",
              "  <thead>\n",
              "    <tr style=\"text-align: right;\">\n",
              "      <th></th>\n",
              "      <th>PassengerId</th>\n",
              "      <th>Survived</th>\n",
              "    </tr>\n",
              "  </thead>\n",
              "  <tbody>\n",
              "    <tr>\n",
              "      <th>0</th>\n",
              "      <td>892</td>\n",
              "      <td>0</td>\n",
              "    </tr>\n",
              "    <tr>\n",
              "      <th>1</th>\n",
              "      <td>893</td>\n",
              "      <td>1</td>\n",
              "    </tr>\n",
              "    <tr>\n",
              "      <th>2</th>\n",
              "      <td>894</td>\n",
              "      <td>0</td>\n",
              "    </tr>\n",
              "    <tr>\n",
              "      <th>3</th>\n",
              "      <td>895</td>\n",
              "      <td>0</td>\n",
              "    </tr>\n",
              "    <tr>\n",
              "      <th>4</th>\n",
              "      <td>896</td>\n",
              "      <td>1</td>\n",
              "    </tr>\n",
              "  </tbody>\n",
              "</table>\n",
              "</div>"
            ],
            "text/plain": [
              "   PassengerId  Survived\n",
              "0          892         0\n",
              "1          893         1\n",
              "2          894         0\n",
              "3          895         0\n",
              "4          896         1"
            ]
          },
          "metadata": {
            "tags": []
          },
          "execution_count": 35
        }
      ]
    },
    {
      "cell_type": "code",
      "metadata": {
        "id": "ArjIoClxnmG0",
        "colab_type": "code",
        "colab": {}
      },
      "source": [
        ""
      ],
      "execution_count": 0,
      "outputs": []
    }
  ]
}